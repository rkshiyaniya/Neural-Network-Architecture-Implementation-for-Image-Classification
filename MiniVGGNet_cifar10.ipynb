{
  "nbformat": 4,
  "nbformat_minor": 0,
  "metadata": {
    "colab": {
      "name": "Untitled4.ipynb",
      "provenance": [],
      "collapsed_sections": [],
      "toc_visible": true
    },
    "kernelspec": {
      "name": "python3",
      "display_name": "Python 3"
    },
    "language_info": {
      "name": "python"
    },
    "accelerator": "GPU"
  },
  "cells": [
    {
      "cell_type": "markdown",
      "metadata": {
        "id": "BrlrbHpbKIff"
      },
      "source": [
        "# MiniVGGNet"
      ]
    },
    {
      "cell_type": "markdown",
      "metadata": {
        "id": "6KT1Z0G_KNzy"
      },
      "source": [
        "VGGNet, (sometimes referred to as simply VGG), was first\n",
        "introduced by Simonyan and Zisserman in their 2014 paper, Very Deep Learning Convolutional\n",
        "Neural Networks for Large-Scale Image Recognition. The primary contribution of their work\n",
        "was demonstrating that an architecture with very small (3×3) filters can be trained to increasingly\n",
        "higher depths (16-19 layers) and obtain state-of-the-art classification on the challenging ImageNet\n",
        "classification challenge.\n",
        "\n",
        "VGGNet is unique in that it uses 3×3 kernels throughout the entire architecture.\n"
      ]
    },
    {
      "cell_type": "markdown",
      "metadata": {
        "id": "62Fbd1LZKn2z"
      },
      "source": [
        "## Import necessary libraries"
      ]
    },
    {
      "cell_type": "code",
      "metadata": {
        "id": "0ojE8RctJ66q"
      },
      "source": [
        "from sklearn.preprocessing import LabelBinarizer\n",
        "from sklearn.model_selection import train_test_split\n",
        "from sklearn.metrics import classification_report\n",
        "from sklearn import datasets\n",
        "from tensorflow.keras import backend as K\n",
        "import matplotlib.pyplot as plt\n",
        "import numpy as np\n",
        "from tensorflow.keras.models import Sequential\n",
        "from tensorflow.keras.layers import Conv2D, MaxPooling2D, Dense, Flatten, Activation, Dropout\n",
        "from tensorflow.keras.optimizers import SGD\n",
        "from tensorflow.keras.layers import BatchNormalization\n",
        "from tensorflow.keras.datasets import cifar10"
      ],
      "execution_count": 1,
      "outputs": []
    },
    {
      "cell_type": "markdown",
      "metadata": {
        "id": "uciHHdClLbTc"
      },
      "source": [
        "## Define the model architecture"
      ]
    },
    {
      "cell_type": "code",
      "metadata": {
        "id": "CO4tzdF0K-c9"
      },
      "source": [
        "class MiniVGGNet:\n",
        "  @staticmethod\n",
        "  def build(width, height, depth, classes):\n",
        "    # initialize the model along with the input shape to be\n",
        "    # \"channels last\" and the channels dimension itself\n",
        "    model = Sequential()\n",
        "    inputShape = (height, width, depth)\n",
        "    chanDim = -1\n",
        "\n",
        "    # if we are using \"channels first\", update the input shape\n",
        "    # and channels dimension\n",
        "    if K.image_data_format() == \"channels_first\":\n",
        "      inputShape = (depth, height, width)\n",
        "      chanDim = 1\n",
        "\n",
        "    # first CONV => RELU => CONV => RELU => POOL layer set\n",
        "    model.add(Conv2D(32, (3, 3), padding=\"same\", input_shape=inputShape))\n",
        "    model.add(Activation(\"relu\"))\n",
        "    model.add(BatchNormalization(axis=chanDim))\n",
        "    model.add(Conv2D(32, (3, 3), padding=\"same\"))\n",
        "    model.add(Activation(\"relu\"))\n",
        "    model.add(BatchNormalization(axis=chanDim))\n",
        "    model.add(MaxPooling2D(pool_size=(2, 2)))\n",
        "    model.add(Dropout(0.25))\n",
        "\n",
        "    # second CONV => RELU => CONV => RELU => POOL layer set\n",
        "    model.add(Conv2D(64, (3, 3), padding=\"same\"))\n",
        "    model.add(Activation(\"relu\"))\n",
        "    model.add(BatchNormalization(axis=chanDim))\n",
        "    model.add(Conv2D(64, (3, 3), padding=\"same\"))\n",
        "    model.add(Activation(\"relu\"))\n",
        "    model.add(BatchNormalization(axis=chanDim))\n",
        "    model.add(MaxPooling2D(pool_size=(2, 2)))\n",
        "    model.add(Dropout(0.25))\n",
        "\n",
        "\n",
        "    # first (and only) set of FC => RELU layers\n",
        "    model.add(Flatten())\n",
        "    model.add(Dense(512))\n",
        "    model.add(Activation(\"relu\"))\n",
        "    model.add(BatchNormalization())\n",
        "    model.add(Dropout(0.5))\n",
        "\n",
        "    # softmax classifier\n",
        "    model.add(Dense(classes))\n",
        "    model.add(Activation(\"softmax\"))\n",
        "\n",
        "    # return the constructed network architecture\n",
        "    return model"
      ],
      "execution_count": 2,
      "outputs": []
    },
    {
      "cell_type": "markdown",
      "metadata": {
        "id": "CGPF4SHBM35Y"
      },
      "source": [
        "## Preprocess data"
      ]
    },
    {
      "cell_type": "code",
      "metadata": {
        "colab": {
          "base_uri": "https://localhost:8080/"
        },
        "id": "Lyn6nTlhMb-j",
        "outputId": "538e4a8e-0ca9-4cd3-df02-c572695f33cc"
      },
      "source": [
        "# load the training and testing data, then scale it into the\n",
        "# range [0, 1]\n",
        "print(\"[INFO] loading CIFAR-10 data...\")\n",
        "((trainX, trainY), (testX, testY)) = cifar10.load_data()\n",
        "\n",
        "trainX = trainX.astype(\"float\") / 255.0\n",
        "testX = testX.astype(\"float\") / 255.0\n",
        "\n",
        "# convert the labels from integers to vectors\n",
        "lb = LabelBinarizer()\n",
        "trainY = lb.fit_transform(trainY)\n",
        "testY = lb.transform(testY)\n",
        "\n",
        "# initialize the label names for the CIFAR-10 dataset\n",
        "labelNames = [\"airplane\", \"automobile\", \"bird\", \"cat\", \"deer\",\n",
        "                 \"dog\", \"frog\", \"horse\", \"ship\", \"truck\"]"
      ],
      "execution_count": 3,
      "outputs": [
        {
          "output_type": "stream",
          "text": [
            "[INFO] loading CIFAR-10 data...\n",
            "Downloading data from https://www.cs.toronto.edu/~kriz/cifar-10-python.tar.gz\n",
            "170500096/170498071 [==============================] - 3s 0us/step\n"
          ],
          "name": "stdout"
        }
      ]
    },
    {
      "cell_type": "markdown",
      "metadata": {
        "id": "QRRAmtT1NEpp"
      },
      "source": [
        "## Compile and train the network"
      ]
    },
    {
      "cell_type": "code",
      "metadata": {
        "colab": {
          "base_uri": "https://localhost:8080/"
        },
        "id": "28xIgnmsM8fU",
        "outputId": "9a999330-dc60-4959-8724-cb57f6ec9f24"
      },
      "source": [
        "# initialize the optimizer and model\n",
        "print(\"[INFO] compiling model...\")\n",
        "opt = SGD(lr=0.01, decay=0.01 / 40, momentum=0.9, nesterov=True)\n",
        "model = MiniVGGNet.build(width=32, height=32, depth=3, classes=10)\n",
        "model.compile(loss=\"categorical_crossentropy\", optimizer=opt, metrics=[\"accuracy\"])\n",
        "\n",
        "# train the network\n",
        "print(\"[INFO] training network...\")\n",
        "H = model.fit(trainX, trainY, validation_data=(testX, testY),\n",
        "                 batch_size=64, epochs=40, verbose=1)"
      ],
      "execution_count": 4,
      "outputs": [
        {
          "output_type": "stream",
          "text": [
            "[INFO] compiling model...\n",
            "[INFO] training network...\n",
            "Epoch 1/40\n",
            "782/782 [==============================] - 41s 10ms/step - loss: 2.0021 - accuracy: 0.3745 - val_loss: 1.2173 - val_accuracy: 0.5679\n",
            "Epoch 2/40\n",
            "782/782 [==============================] - 7s 9ms/step - loss: 1.2081 - accuracy: 0.5809 - val_loss: 0.9455 - val_accuracy: 0.6690\n",
            "Epoch 3/40\n",
            "782/782 [==============================] - 7s 9ms/step - loss: 0.9859 - accuracy: 0.6544 - val_loss: 0.8123 - val_accuracy: 0.7137\n",
            "Epoch 4/40\n",
            "782/782 [==============================] - 7s 9ms/step - loss: 0.8622 - accuracy: 0.6984 - val_loss: 0.7552 - val_accuracy: 0.7376\n",
            "Epoch 5/40\n",
            "782/782 [==============================] - 7s 9ms/step - loss: 0.7807 - accuracy: 0.7271 - val_loss: 0.7357 - val_accuracy: 0.7442\n",
            "Epoch 6/40\n",
            "782/782 [==============================] - 7s 9ms/step - loss: 0.7269 - accuracy: 0.7413 - val_loss: 0.7196 - val_accuracy: 0.7484\n",
            "Epoch 7/40\n",
            "782/782 [==============================] - 7s 9ms/step - loss: 0.6892 - accuracy: 0.7545 - val_loss: 0.6818 - val_accuracy: 0.7607\n",
            "Epoch 8/40\n",
            "782/782 [==============================] - 7s 9ms/step - loss: 0.6320 - accuracy: 0.7759 - val_loss: 0.7642 - val_accuracy: 0.7329\n",
            "Epoch 9/40\n",
            "782/782 [==============================] - 7s 9ms/step - loss: 0.6037 - accuracy: 0.7883 - val_loss: 0.6469 - val_accuracy: 0.7779\n",
            "Epoch 10/40\n",
            "782/782 [==============================] - 7s 9ms/step - loss: 0.5801 - accuracy: 0.7954 - val_loss: 0.6059 - val_accuracy: 0.7897\n",
            "Epoch 11/40\n",
            "782/782 [==============================] - 7s 9ms/step - loss: 0.5435 - accuracy: 0.8074 - val_loss: 0.5994 - val_accuracy: 0.7932\n",
            "Epoch 12/40\n",
            "782/782 [==============================] - 7s 9ms/step - loss: 0.5285 - accuracy: 0.8123 - val_loss: 0.6198 - val_accuracy: 0.7881\n",
            "Epoch 13/40\n",
            "782/782 [==============================] - 7s 9ms/step - loss: 0.5144 - accuracy: 0.8174 - val_loss: 0.6135 - val_accuracy: 0.7900\n",
            "Epoch 14/40\n",
            "782/782 [==============================] - 7s 9ms/step - loss: 0.4831 - accuracy: 0.8298 - val_loss: 0.5868 - val_accuracy: 0.8011\n",
            "Epoch 15/40\n",
            "782/782 [==============================] - 7s 9ms/step - loss: 0.4607 - accuracy: 0.8382 - val_loss: 0.5712 - val_accuracy: 0.8089\n",
            "Epoch 16/40\n",
            "782/782 [==============================] - 7s 9ms/step - loss: 0.4506 - accuracy: 0.8391 - val_loss: 0.5822 - val_accuracy: 0.8039\n",
            "Epoch 17/40\n",
            "782/782 [==============================] - 7s 9ms/step - loss: 0.4316 - accuracy: 0.8460 - val_loss: 0.6349 - val_accuracy: 0.7864\n",
            "Epoch 18/40\n",
            "782/782 [==============================] - 7s 9ms/step - loss: 0.4144 - accuracy: 0.8515 - val_loss: 0.5590 - val_accuracy: 0.8113\n",
            "Epoch 19/40\n",
            "782/782 [==============================] - 7s 9ms/step - loss: 0.3940 - accuracy: 0.8618 - val_loss: 0.5618 - val_accuracy: 0.8107\n",
            "Epoch 20/40\n",
            "782/782 [==============================] - 7s 9ms/step - loss: 0.3919 - accuracy: 0.8614 - val_loss: 0.5419 - val_accuracy: 0.8166\n",
            "Epoch 21/40\n",
            "782/782 [==============================] - 7s 9ms/step - loss: 0.3719 - accuracy: 0.8670 - val_loss: 0.5458 - val_accuracy: 0.8156\n",
            "Epoch 22/40\n",
            "782/782 [==============================] - 7s 9ms/step - loss: 0.3661 - accuracy: 0.8681 - val_loss: 0.5501 - val_accuracy: 0.8155\n",
            "Epoch 23/40\n",
            "782/782 [==============================] - 7s 9ms/step - loss: 0.3571 - accuracy: 0.8722 - val_loss: 0.5534 - val_accuracy: 0.8206\n",
            "Epoch 24/40\n",
            "782/782 [==============================] - 7s 9ms/step - loss: 0.3515 - accuracy: 0.8744 - val_loss: 0.5376 - val_accuracy: 0.8186\n",
            "Epoch 25/40\n",
            "782/782 [==============================] - 7s 9ms/step - loss: 0.3409 - accuracy: 0.8771 - val_loss: 0.5493 - val_accuracy: 0.8176\n",
            "Epoch 26/40\n",
            "782/782 [==============================] - 7s 9ms/step - loss: 0.3262 - accuracy: 0.8835 - val_loss: 0.5487 - val_accuracy: 0.8214\n",
            "Epoch 27/40\n",
            "782/782 [==============================] - 7s 9ms/step - loss: 0.3206 - accuracy: 0.8849 - val_loss: 0.5396 - val_accuracy: 0.8235\n",
            "Epoch 28/40\n",
            "782/782 [==============================] - 7s 9ms/step - loss: 0.3163 - accuracy: 0.8867 - val_loss: 0.5396 - val_accuracy: 0.8231\n",
            "Epoch 29/40\n",
            "782/782 [==============================] - 7s 9ms/step - loss: 0.3064 - accuracy: 0.8914 - val_loss: 0.5537 - val_accuracy: 0.8174\n",
            "Epoch 30/40\n",
            "782/782 [==============================] - 7s 9ms/step - loss: 0.2912 - accuracy: 0.8962 - val_loss: 0.5672 - val_accuracy: 0.8194\n",
            "Epoch 31/40\n",
            "782/782 [==============================] - 7s 9ms/step - loss: 0.3018 - accuracy: 0.8915 - val_loss: 0.5516 - val_accuracy: 0.8206\n",
            "Epoch 32/40\n",
            "782/782 [==============================] - 7s 9ms/step - loss: 0.2967 - accuracy: 0.8933 - val_loss: 0.5432 - val_accuracy: 0.8210\n",
            "Epoch 33/40\n",
            "782/782 [==============================] - 7s 9ms/step - loss: 0.2819 - accuracy: 0.9002 - val_loss: 0.5639 - val_accuracy: 0.8168\n",
            "Epoch 34/40\n",
            "782/782 [==============================] - 7s 9ms/step - loss: 0.2749 - accuracy: 0.9015 - val_loss: 0.5562 - val_accuracy: 0.8212\n",
            "Epoch 35/40\n",
            "782/782 [==============================] - 7s 9ms/step - loss: 0.2682 - accuracy: 0.9037 - val_loss: 0.5429 - val_accuracy: 0.8239\n",
            "Epoch 36/40\n",
            "782/782 [==============================] - 7s 9ms/step - loss: 0.2601 - accuracy: 0.9059 - val_loss: 0.5525 - val_accuracy: 0.8236\n",
            "Epoch 37/40\n",
            "782/782 [==============================] - 7s 9ms/step - loss: 0.2588 - accuracy: 0.9082 - val_loss: 0.5491 - val_accuracy: 0.8252\n",
            "Epoch 38/40\n",
            "782/782 [==============================] - 7s 9ms/step - loss: 0.2595 - accuracy: 0.9065 - val_loss: 0.5523 - val_accuracy: 0.8210\n",
            "Epoch 39/40\n",
            "782/782 [==============================] - 7s 9ms/step - loss: 0.2572 - accuracy: 0.9066 - val_loss: 0.5468 - val_accuracy: 0.8257\n",
            "Epoch 40/40\n",
            "782/782 [==============================] - 7s 9ms/step - loss: 0.2485 - accuracy: 0.9095 - val_loss: 0.5508 - val_accuracy: 0.8270\n"
          ],
          "name": "stdout"
        }
      ]
    },
    {
      "cell_type": "markdown",
      "metadata": {
        "id": "5wqUZq_nNVBz"
      },
      "source": [
        "## Evaluate the network"
      ]
    },
    {
      "cell_type": "code",
      "metadata": {
        "colab": {
          "base_uri": "https://localhost:8080/"
        },
        "id": "07gLlbOYNPCh",
        "outputId": "4580ca5c-15f1-492c-8686-b88d47abaf31"
      },
      "source": [
        "# evaluate the network\n",
        "print(\"[INFO] evaluating network...\")\n",
        "predictions = model.predict(testX, batch_size=64)\n",
        "print(classification_report(testY.argmax(axis=1),\n",
        "                            predictions.argmax(axis=1),\n",
        "                            target_names=labelNames))"
      ],
      "execution_count": 5,
      "outputs": [
        {
          "output_type": "stream",
          "text": [
            "[INFO] evaluating network...\n",
            "              precision    recall  f1-score   support\n",
            "\n",
            "    airplane       0.87      0.84      0.85      1000\n",
            "  automobile       0.92      0.90      0.91      1000\n",
            "        bird       0.76      0.75      0.75      1000\n",
            "         cat       0.70      0.65      0.68      1000\n",
            "        deer       0.76      0.84      0.80      1000\n",
            "         dog       0.74      0.77      0.75      1000\n",
            "        frog       0.85      0.89      0.87      1000\n",
            "       horse       0.90      0.84      0.87      1000\n",
            "        ship       0.90      0.91      0.91      1000\n",
            "       truck       0.87      0.90      0.88      1000\n",
            "\n",
            "    accuracy                           0.83     10000\n",
            "   macro avg       0.83      0.83      0.83     10000\n",
            "weighted avg       0.83      0.83      0.83     10000\n",
            "\n"
          ],
          "name": "stdout"
        }
      ]
    },
    {
      "cell_type": "markdown",
      "metadata": {
        "id": "g1Xo2wxbNdg1"
      },
      "source": [
        "## Plot the training/val loss and accuracy"
      ]
    },
    {
      "cell_type": "code",
      "metadata": {
        "colab": {
          "base_uri": "https://localhost:8080/",
          "height": 299
        },
        "id": "F6vGj83eNlqD",
        "outputId": "53f7f117-1d52-4b34-b1b4-f519a35f606d"
      },
      "source": [
        "\n",
        "plt.style.use(\"ggplot\")\n",
        "plt.figure()\n",
        "plt.plot(np.arange(0, 40), H.history[\"loss\"], label=\"train_loss\")\n",
        "plt.plot(np.arange(0, 40), H.history[\"val_loss\"], label=\"val_loss\")\n",
        "plt.plot(np.arange(0, 40), H.history[\"accuracy\"], label=\"train_acc\")\n",
        "plt.plot(np.arange(0, 40), H.history[\"val_accuracy\"], label=\"val_acc\")\n",
        "plt.title(\"Loss and Accuracy\")\n",
        "plt.xlabel(\"Epoch #\")\n",
        "plt.ylabel(\"Loss/Accuracy\")\n",
        "plt.legend()\n",
        "plt.show()"
      ],
      "execution_count": 6,
      "outputs": [
        {
          "output_type": "display_data",
          "data": {
            "image/png": "[encoded data removed]",
            "text/plain": [
              "<Figure size 432x288 with 1 Axes>"
            ]
          },
          "metadata": {
            "tags": []
          }
        }
      ]
    },
    {
      "cell_type": "markdown",
      "metadata": {
        "id": "YFxj8GhfPeQp"
      },
      "source": [
        "# We can see that MiniVGGNet is obtaining 83% classification accuracy on the CIFAR-10 dataset with batch normalization."
      ]
    }
  ]
}