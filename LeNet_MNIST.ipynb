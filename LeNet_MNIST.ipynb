{
  "nbformat": 4,
  "nbformat_minor": 0,
  "metadata": {
    "kernelspec": {
      "display_name": "Python 3",
      "language": "python",
      "name": "python3"
    },
    "language_info": {
      "codemirror_mode": {
        "name": "ipython",
        "version": 3
      },
      "file_extension": ".py",
      "mimetype": "text/x-python",
      "name": "python",
      "nbconvert_exporter": "python",
      "pygments_lexer": "ipython3",
      "version": "3.8.2"
    },
    "colab": {
      "name": "LeNet MNIST.ipynb",
      "provenance": []
    },
    "accelerator": "GPU"
  },
  "cells": [
    {
      "cell_type": "markdown",
      "metadata": {
        "id": "Sn33nW0sG1Hv"
      },
      "source": [
        "# LeNet"
      ]
    },
    {
      "cell_type": "markdown",
      "metadata": {
        "id": "GTPqo3BmGru1"
      },
      "source": [
        "The LeNet architecture is a seminal work in the deep learning community, first introduced by\n",
        "LeCun et al. in their 1998 paper, Gradient-Based Learning Applied to Document Recognition. As the name of the paper suggests, the authors’ motivation behind implementing LeNet was\n",
        "primarily for Optical Character Recognition (OCR).\n",
        "\n",
        "The LeNet architecture is straightforward and small (in terms of memory footprint), making it\n",
        "perfect for teaching the basics of CNNs.\n",
        "\n",
        "In this chapter, we’ll seek to replicate experiments similar to LeCun’s in their 1998 paper. We’ll\n",
        "start by reviewing the LeNet architecture and then implement the network using Keras. Finally,\n",
        "we’ll evaluate LeNet on the MNIST dataset for handwritten digit recognition."
      ]
    },
    {
      "cell_type": "markdown",
      "metadata": {
        "id": "XkaYOYkYE9vS"
      },
      "source": [
        "## Import necessary librarires"
      ]
    },
    {
      "cell_type": "code",
      "metadata": {
        "id": "nx3JOJqHDHUN"
      },
      "source": [
        "from sklearn.preprocessing import LabelBinarizer\n",
        "from sklearn.model_selection import train_test_split\n",
        "from sklearn.metrics import classification_report\n",
        "from sklearn import datasets\n",
        "from tensorflow.keras import backend as K\n",
        "import matplotlib.pyplot as plt\n",
        "import numpy as np\n",
        "from tensorflow.keras.models import Sequential\n",
        "from tensorflow.keras.layers import Conv2D, MaxPooling2D, Dense, Flatten, Activation\n",
        "from tensorflow.keras.optimizers import SGD"
      ],
      "execution_count": 1,
      "outputs": []
    },
    {
      "cell_type": "markdown",
      "metadata": {
        "id": "QBAwpNhnE6XN"
      },
      "source": [
        "## Define the model architecture"
      ]
    },
    {
      "cell_type": "code",
      "metadata": {
        "id": "3XRVvNG9DHUO"
      },
      "source": [
        "class LeNet:\n",
        "    @staticmethod\n",
        "    def build(width, height, depth, classes):\n",
        "        # initialize the model\n",
        "        model = Sequential()\n",
        "        inputShape = (height, width, depth)\n",
        "\n",
        "        # if we are using \"channels first\", update the input shape\n",
        "        if K.image_data_format() == \"channels_first\":\n",
        "            inputShape = (depth, height, width)\n",
        "            \n",
        "        # first set of CONV => RELU => POOL layers\n",
        "        model.add(Conv2D(20, (5, 5), padding=\"same\", input_shape=inputShape))\n",
        "        model.add(Activation(\"relu\"))\n",
        "        model.add(MaxPooling2D(pool_size=(2, 2), strides=(2, 2)))\n",
        "        \n",
        "        \n",
        "        # Second set of CONV => RELU => POOL layers\n",
        "        model.add(Conv2D(50, (5, 5), padding=\"same\"))\n",
        "        model.add(Activation(\"relu\"))\n",
        "        model.add(MaxPooling2D(pool_size=(2, 2), strides=(2, 2)))\n",
        "        \n",
        "        # first (and only) set of FC => RELU layers\n",
        "        model.add(Flatten())\n",
        "        model.add(Dense(500))\n",
        "        model.add(Activation(\"relu\"))\n",
        "        \n",
        "        # softmax classifier\n",
        "        model.add(Dense(classes))\n",
        "        model.add(Activation(\"softmax\"))\n",
        "\n",
        "        # return the constructed network architecture\n",
        "        return model"
      ],
      "execution_count": 2,
      "outputs": []
    },
    {
      "cell_type": "code",
      "metadata": {
        "colab": {
          "base_uri": "https://localhost:8080/"
        },
        "id": "QUdpAh_TDHUP",
        "outputId": "1532ed74-144b-4140-b027-3123bea04f5b"
      },
      "source": [
        "# grab the MNIST dataset (if this is your first time using this\n",
        "# dataset then the 55MB download may take a minute)\n",
        "print(\"[INFO] accessing MNIST...\")\n",
        "dataset = datasets.fetch_openml('mnist_784')\n",
        "data = dataset.data"
      ],
      "execution_count": 3,
      "outputs": [
        {
          "output_type": "stream",
          "text": [
            "[INFO] accessing MNIST...\n"
          ],
          "name": "stdout"
        }
      ]
    },
    {
      "cell_type": "code",
      "metadata": {
        "id": "mkXKE30iDHUQ"
      },
      "source": [
        "# if we are using \"channels first\" ordering, then reshape the\n",
        "# design matrix such that the matrix is:\n",
        "# num_samples x depth x rows x columns\n",
        "if K.image_data_format() == \"channels_first\":\n",
        "    data = data.reshape(data.shape[0], 1, 28, 28)\n",
        "\n",
        "# otherwise, we are using \"channels last\" ordering, so the design\n",
        "# matrix shape should be: num_samples x rows x columns x depth\n",
        "else:\n",
        "    data = data.reshape(data.shape[0], 28, 28, 1)"
      ],
      "execution_count": 5,
      "outputs": []
    },
    {
      "cell_type": "code",
      "metadata": {
        "colab": {
          "base_uri": "https://localhost:8080/"
        },
        "id": "y07Ov8puDHUR",
        "outputId": "b801a682-3b29-4e27-9bf0-3a38c56cbfb7"
      },
      "source": [
        "data.shape"
      ],
      "execution_count": 6,
      "outputs": [
        {
          "output_type": "execute_result",
          "data": {
            "text/plain": [
              "(70000, 28, 28, 1)"
            ]
          },
          "metadata": {
            "tags": []
          },
          "execution_count": 6
        }
      ]
    },
    {
      "cell_type": "markdown",
      "metadata": {
        "id": "9MpL3hFKEwq5"
      },
      "source": [
        "## Preprocess data and spilt into train/test"
      ]
    },
    {
      "cell_type": "code",
      "metadata": {
        "id": "yFLzBLy6DHUR"
      },
      "source": [
        "# scale the input data to the range [0, 1] and perform a train/test split\n",
        "(trainX, testX, trainY, testY) = train_test_split(data / 255.0,\n",
        "                                                  dataset.target.astype(\"int\"), test_size=0.25, random_state=42)\n",
        "\n",
        "# convert the labels from integers to vectors\n",
        "le = LabelBinarizer()\n",
        "trainY = le.fit_transform(trainY)\n",
        "testY = le.transform(testY)"
      ],
      "execution_count": 7,
      "outputs": []
    },
    {
      "cell_type": "markdown",
      "metadata": {
        "id": "XBabXSOzEsTq"
      },
      "source": [
        "## Compile and train the network"
      ]
    },
    {
      "cell_type": "code",
      "metadata": {
        "colab": {
          "base_uri": "https://localhost:8080/"
        },
        "id": "ypEcZDBjDHUS",
        "outputId": "8213a851-da23-4ea3-ed62-79eacfcbeb54"
      },
      "source": [
        "# initialize the optimizer and model\n",
        "print(\"[INFO] compiling model...\") \n",
        "model = LeNet.build(width=28, height=28, depth=1, classes=10)\n",
        "model.compile(loss=\"categorical_crossentropy\", optimizer=SGD(lr=0.01), metrics=[\"accuracy\"])\n",
        "\n",
        "# train the network\n",
        "print(\"[INFO] training network...\")\n",
        "H = model.fit(trainX, trainY, validation_data=(testX, testY), batch_size=128, epochs=20, verbose=1)"
      ],
      "execution_count": 8,
      "outputs": [
        {
          "output_type": "stream",
          "text": [
            "[INFO] compiling model...\n",
            "[INFO] training network...\n",
            "Epoch 1/20\n",
            "411/411 [==============================] - 35s 7ms/step - loss: 1.6613 - accuracy: 0.5047 - val_loss: 0.4552 - val_accuracy: 0.8404\n",
            "Epoch 2/20\n",
            "411/411 [==============================] - 2s 6ms/step - loss: 0.3089 - accuracy: 0.9061 - val_loss: 0.6462 - val_accuracy: 0.8463\n",
            "Epoch 3/20\n",
            "411/411 [==============================] - 2s 6ms/step - loss: 0.2137 - accuracy: 0.9356 - val_loss: 0.1740 - val_accuracy: 0.9491\n",
            "Epoch 4/20\n",
            "411/411 [==============================] - 2s 6ms/step - loss: 0.1526 - accuracy: 0.9537 - val_loss: 0.3250 - val_accuracy: 0.8922\n",
            "Epoch 5/20\n",
            "411/411 [==============================] - 3s 6ms/step - loss: 0.1290 - accuracy: 0.9611 - val_loss: 0.1213 - val_accuracy: 0.9631\n",
            "Epoch 6/20\n",
            "411/411 [==============================] - 2s 6ms/step - loss: 0.1069 - accuracy: 0.9682 - val_loss: 0.1831 - val_accuracy: 0.9440\n",
            "Epoch 7/20\n",
            "411/411 [==============================] - 2s 6ms/step - loss: 0.0961 - accuracy: 0.9718 - val_loss: 0.0987 - val_accuracy: 0.9689\n",
            "Epoch 8/20\n",
            "411/411 [==============================] - 2s 6ms/step - loss: 0.0872 - accuracy: 0.9745 - val_loss: 0.1099 - val_accuracy: 0.9657\n",
            "Epoch 9/20\n",
            "411/411 [==============================] - 2s 6ms/step - loss: 0.0754 - accuracy: 0.9771 - val_loss: 0.1127 - val_accuracy: 0.9642\n",
            "Epoch 10/20\n",
            "411/411 [==============================] - 2s 6ms/step - loss: 0.0694 - accuracy: 0.9794 - val_loss: 0.1141 - val_accuracy: 0.9646\n",
            "Epoch 11/20\n",
            "411/411 [==============================] - 2s 6ms/step - loss: 0.0670 - accuracy: 0.9803 - val_loss: 0.0880 - val_accuracy: 0.9733\n",
            "Epoch 12/20\n",
            "411/411 [==============================] - 3s 6ms/step - loss: 0.0621 - accuracy: 0.9819 - val_loss: 0.0714 - val_accuracy: 0.9779\n",
            "Epoch 13/20\n",
            "411/411 [==============================] - 2s 6ms/step - loss: 0.0583 - accuracy: 0.9823 - val_loss: 0.3685 - val_accuracy: 0.8873\n",
            "Epoch 14/20\n",
            "411/411 [==============================] - 2s 6ms/step - loss: 0.0582 - accuracy: 0.9820 - val_loss: 0.1235 - val_accuracy: 0.9628\n",
            "Epoch 15/20\n",
            "411/411 [==============================] - 2s 6ms/step - loss: 0.0524 - accuracy: 0.9849 - val_loss: 0.0735 - val_accuracy: 0.9767\n",
            "Epoch 16/20\n",
            "411/411 [==============================] - 2s 6ms/step - loss: 0.0501 - accuracy: 0.9850 - val_loss: 0.0685 - val_accuracy: 0.9787\n",
            "Epoch 17/20\n",
            "411/411 [==============================] - 2s 6ms/step - loss: 0.0454 - accuracy: 0.9864 - val_loss: 0.1144 - val_accuracy: 0.9643\n",
            "Epoch 18/20\n",
            "411/411 [==============================] - 2s 6ms/step - loss: 0.0456 - accuracy: 0.9858 - val_loss: 0.0928 - val_accuracy: 0.9693\n",
            "Epoch 19/20\n",
            "411/411 [==============================] - 2s 6ms/step - loss: 0.0432 - accuracy: 0.9872 - val_loss: 0.1109 - val_accuracy: 0.9671\n",
            "Epoch 20/20\n",
            "411/411 [==============================] - 2s 6ms/step - loss: 0.0419 - accuracy: 0.9874 - val_loss: 0.0545 - val_accuracy: 0.9826\n"
          ],
          "name": "stdout"
        }
      ]
    },
    {
      "cell_type": "markdown",
      "metadata": {
        "id": "3m-rvR4iEoWj"
      },
      "source": [
        "## Evaluate the network"
      ]
    },
    {
      "cell_type": "code",
      "metadata": {
        "colab": {
          "base_uri": "https://localhost:8080/"
        },
        "id": "aSaNsA5eDHUT",
        "outputId": "8d6547bd-40a8-47d0-b3ce-df4d0907d788"
      },
      "source": [
        "print(\"[INFO] evaluating network...\")\n",
        "predictions = model.predict(testX, batch_size=128)\n",
        "print(classification_report(testY.argmax(axis=1),\n",
        "                            predictions.argmax(axis=1), \n",
        "                            target_names=[str(x) for x in le.classes_]))"
      ],
      "execution_count": 9,
      "outputs": [
        {
          "output_type": "stream",
          "text": [
            "[INFO] evaluating network...\n",
            "              precision    recall  f1-score   support\n",
            "\n",
            "           0       0.99      0.99      0.99      1714\n",
            "           1       0.99      0.99      0.99      1977\n",
            "           2       0.97      0.99      0.98      1761\n",
            "           3       0.99      0.97      0.98      1806\n",
            "           4       0.98      0.99      0.98      1587\n",
            "           5       0.99      0.98      0.98      1607\n",
            "           6       1.00      0.98      0.99      1761\n",
            "           7       0.99      0.98      0.98      1878\n",
            "           8       0.98      0.97      0.98      1657\n",
            "           9       0.97      0.98      0.97      1752\n",
            "\n",
            "    accuracy                           0.98     17500\n",
            "   macro avg       0.98      0.98      0.98     17500\n",
            "weighted avg       0.98      0.98      0.98     17500\n",
            "\n"
          ],
          "name": "stdout"
        }
      ]
    },
    {
      "cell_type": "markdown",
      "metadata": {
        "id": "FbZYlwl-Ejss"
      },
      "source": [
        "## Plot the training/val loss and accuracy"
      ]
    },
    {
      "cell_type": "code",
      "metadata": {
        "colab": {
          "base_uri": "https://localhost:8080/",
          "height": 299
        },
        "id": "UaH1Wdp8DHUT",
        "outputId": "34a20e02-203c-467e-d797-cf785c3b5aad"
      },
      "source": [
        "plt.style.use(\"ggplot\")\n",
        "plt.figure()\n",
        "plt.plot(np.arange(0, 20), H.history[\"loss\"], label=\"train_loss\")\n",
        "plt.plot(np.arange(0, 20), H.history[\"val_loss\"], label=\"val_loss\")\n",
        "plt.plot(np.arange(0, 20), H.history[\"accuracy\"], label=\"train_acc\")\n",
        "plt.plot(np.arange(0, 20), H.history[\"val_accuracy\"], label=\"val_acc\")\n",
        "plt.title(\"Loss and Accuracy\")\n",
        "plt.xlabel(\"Epoch #\")\n",
        "plt.ylabel(\"Loss/Accuracy\")\n",
        "plt.legend()\n",
        "plt.show()"
      ],
      "execution_count": 12,
      "outputs": [
        {
          "output_type": "display_data",
          "data": {
            "image/png": "[encoded data removed]",
            "text/plain": [
              "<Figure size 432x288 with 1 Axes>"
            ]
          },
          "metadata": {
            "tags": []
          }
        }
      ]
    },
    {
      "cell_type": "markdown",
      "metadata": {
        "id": "LKmneMTkEJCm"
      },
      "source": [
        "## With the help of LeNet Architecture we are able to get very good (~98%) accuracy with generalized model."
      ]
    }
  ]
}